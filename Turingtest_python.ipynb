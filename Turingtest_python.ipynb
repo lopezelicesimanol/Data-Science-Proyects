{
  "nbformat": 4,
  "nbformat_minor": 0,
  "metadata": {
    "colab": {
      "name": "Turingtest-python.ipynb",
      "provenance": []
    },
    "kernelspec": {
      "name": "python3",
      "display_name": "Python 3"
    },
    "language_info": {
      "name": "python"
    }
  },
  "cells": [
    {
      "cell_type": "code",
      "execution_count": 1,
      "metadata": {
        "colab": {
          "base_uri": "https://localhost:8080/",
          "height": 201
        },
        "id": "MnABmISOzyY-",
        "outputId": "abac8e4f-147e-4a44-f56f-6215302c3a96"
      },
      "outputs": [
        {
          "output_type": "error",
          "ename": "TypeError",
          "evalue": "ignored",
          "traceback": [
            "\u001b[0;31m---------------------------------------------------------------------------\u001b[0m",
            "\u001b[0;31mTypeError\u001b[0m                                 Traceback (most recent call last)",
            "\u001b[0;32m<ipython-input-1-9ba367e98e7b>\u001b[0m in \u001b[0;36m<module>\u001b[0;34m()\u001b[0m\n\u001b[1;32m      1\u001b[0m \u001b[0my\u001b[0m \u001b[0;34m=\u001b[0m \u001b[0;34m[\u001b[0m\u001b[0;36m2\u001b[0m \u001b[0;34m,\u001b[0m \u001b[0;36m5J\u001b[0m \u001b[0;34m,\u001b[0m \u001b[0;36m6\u001b[0m\u001b[0;34m]\u001b[0m\u001b[0;34m\u001b[0m\u001b[0;34m\u001b[0m\u001b[0m\n\u001b[0;32m----> 2\u001b[0;31m \u001b[0my\u001b[0m\u001b[0;34m.\u001b[0m\u001b[0msort\u001b[0m\u001b[0;34m(\u001b[0m\u001b[0;34m)\u001b[0m\u001b[0;34m\u001b[0m\u001b[0;34m\u001b[0m\u001b[0m\n\u001b[0m\u001b[1;32m      3\u001b[0m \u001b[0mprint\u001b[0m\u001b[0;34m(\u001b[0m\u001b[0my\u001b[0m\u001b[0;34m)\u001b[0m\u001b[0;34m\u001b[0m\u001b[0;34m\u001b[0m\u001b[0m\n",
            "\u001b[0;31mTypeError\u001b[0m: '<' not supported between instances of 'complex' and 'int'"
          ]
        }
      ],
      "source": [
        "y = [2 , 5J , 6]\n",
        "y.sort()\n",
        "print(y)"
      ]
    },
    {
      "cell_type": "code",
      "source": [
        "'the {} side{1}{2}'.format('bright','light','sun')"
      ],
      "metadata": {
        "colab": {
          "base_uri": "https://localhost:8080/",
          "height": 166
        },
        "id": "1ofGmnJD0CdZ",
        "outputId": "2ea852b2-d8fb-4708-9dba-f88ff66b9515"
      },
      "execution_count": 2,
      "outputs": [
        {
          "output_type": "error",
          "ename": "ValueError",
          "evalue": "ignored",
          "traceback": [
            "\u001b[0;31m---------------------------------------------------------------------------\u001b[0m",
            "\u001b[0;31mValueError\u001b[0m                                Traceback (most recent call last)",
            "\u001b[0;32m<ipython-input-2-9cfebf7ed588>\u001b[0m in \u001b[0;36m<module>\u001b[0;34m()\u001b[0m\n\u001b[0;32m----> 1\u001b[0;31m \u001b[0;34m'the {} side{1}{2}'\u001b[0m\u001b[0;34m.\u001b[0m\u001b[0mformat\u001b[0m\u001b[0;34m(\u001b[0m\u001b[0;34m'bright'\u001b[0m\u001b[0;34m,\u001b[0m\u001b[0;34m'light'\u001b[0m\u001b[0;34m,\u001b[0m\u001b[0;34m'sun'\u001b[0m\u001b[0;34m)\u001b[0m\u001b[0;34m\u001b[0m\u001b[0;34m\u001b[0m\u001b[0m\n\u001b[0m",
            "\u001b[0;31mValueError\u001b[0m: cannot switch from automatic field numbering to manual field specification"
          ]
        }
      ]
    },
    {
      "cell_type": "code",
      "source": [
        "f = None\n",
        "for i in range(5):\n",
        "  with open(\"app.log\",\"w\") as f:\n",
        "    if i>2:\n",
        "      break\n",
        "print(f.closed)"
      ],
      "metadata": {
        "colab": {
          "base_uri": "https://localhost:8080/"
        },
        "id": "JaDfOY1E0aAW",
        "outputId": "0160655f-5ced-465e-ba7e-c4492c77575a"
      },
      "execution_count": 3,
      "outputs": [
        {
          "output_type": "stream",
          "name": "stdout",
          "text": [
            "True\n"
          ]
        }
      ]
    },
    {
      "cell_type": "code",
      "source": [
        "inputs = ['nodejs', 'reactjs', 'vuecjs']\n",
        "print(inputs)\n",
        "for i in inputs:\n",
        "  inputs.append(i.upper())\n",
        "print(inputs)"
      ],
      "metadata": {
        "colab": {
          "base_uri": "https://localhost:8080/"
        },
        "id": "bPxhETkc0qBB",
        "outputId": "b965f5f5-cd83-4363-9c1d-aec21f591a97"
      },
      "execution_count": null,
      "outputs": [
        {
          "output_type": "stream",
          "name": "stdout",
          "text": [
            "['nodejs', 'reactjs', 'vuecjs']\n"
          ]
        }
      ]
    },
    {
      "cell_type": "code",
      "source": [
        "alphabets = 'abcd'\n",
        "for i in range(len(alphabets)):\n",
        "  alphabets[i].upper()\n",
        "print(alphabets)"
      ],
      "metadata": {
        "colab": {
          "base_uri": "https://localhost:8080/"
        },
        "id": "Z7Y6ybun1HFZ",
        "outputId": "ad67db46-773b-46c9-8c61-e0fb60d9dc14"
      },
      "execution_count": 1,
      "outputs": [
        {
          "output_type": "stream",
          "name": "stdout",
          "text": [
            "abcd\n"
          ]
        }
      ]
    },
    {
      "cell_type": "code",
      "source": [
        "class Developer(object):\n",
        "  def __init__(self,skills):\n",
        "    self.skills = skills\n",
        "  def __add__(self,other):\n",
        "    skills = self.skills + other.skills\n",
        "    return Developer(skills)\n",
        "  def __str__(self):\n",
        "    return \"Skills\"\n",
        "\n",
        "a = Developer('NodeJS')\n",
        "b = Developer('Python')\n",
        "\n",
        "print(a+b)"
      ],
      "metadata": {
        "colab": {
          "base_uri": "https://localhost:8080/"
        },
        "id": "fjoG5v0E1bmo",
        "outputId": "9aed57c4-0bf4-4674-bc60-acb4e934c5a6"
      },
      "execution_count": 2,
      "outputs": [
        {
          "output_type": "stream",
          "name": "stdout",
          "text": [
            "Skills\n"
          ]
        }
      ]
    },
    {
      "cell_type": "code",
      "source": [
        "data = ['a','b','c','d']\n",
        "\n",
        "newlist = data.copy()\n",
        "\n",
        "newlist"
      ],
      "metadata": {
        "colab": {
          "base_uri": "https://localhost:8080/"
        },
        "id": "1rq7gIXj2ATK",
        "outputId": "df52598c-703f-47a0-d35b-97b18b086a93"
      },
      "execution_count": 5,
      "outputs": [
        {
          "output_type": "execute_result",
          "data": {
            "text/plain": [
              "['a', 'b', 'c', 'd']"
            ]
          },
          "metadata": {},
          "execution_count": 5
        }
      ]
    },
    {
      "cell_type": "code",
      "source": [
        "l = [1 , 2 ,3 ,4 ,5 ]\n",
        "m = map(lambda x: 2**x, l)\n",
        "print(list(m))"
      ],
      "metadata": {
        "colab": {
          "base_uri": "https://localhost:8080/"
        },
        "id": "7S4yUsZu2Nkm",
        "outputId": "125b50d2-265f-4176-d998-6b43615a0bb4"
      },
      "execution_count": 6,
      "outputs": [
        {
          "output_type": "stream",
          "name": "stdout",
          "text": [
            "[2, 4, 8, 16, 32]\n"
          ]
        }
      ]
    },
    {
      "cell_type": "code",
      "source": [
        "def func1():\n",
        "   x = 50\n",
        "   return x\n",
        "\n",
        "func1()\n",
        "print(x)"
      ],
      "metadata": {
        "colab": {
          "base_uri": "https://localhost:8080/"
        },
        "id": "a511Bmaq2i8F",
        "outputId": "f13fd47d-38c8-48fb-bc0e-b4920eeaa172"
      },
      "execution_count": 17,
      "outputs": [
        {
          "output_type": "stream",
          "name": "stdout",
          "text": [
            "abcdef\n"
          ]
        }
      ]
    },
    {
      "cell_type": "code",
      "source": [
        "def f(x , l=[]):\n",
        "  for i in range(x):\n",
        "    l.append(i*i)\n",
        "  print(l)\n",
        "\n",
        "  f(2)\n",
        "  f(3, [3,2,1])\n",
        "  f(3)"
      ],
      "metadata": {
        "id": "1UGcZCLp3O5s"
      },
      "execution_count": 20,
      "outputs": []
    },
    {
      "cell_type": "code",
      "source": [
        "data = [1,2,3]\n",
        "def incr(x):\n",
        "  return x+1\n",
        "\n",
        "print(list(map(incr, data)))"
      ],
      "metadata": {
        "colab": {
          "base_uri": "https://localhost:8080/"
        },
        "id": "LwitudWq3noP",
        "outputId": "0090a588-f8fd-44f7-c2a1-597c59f6f90f"
      },
      "execution_count": 21,
      "outputs": [
        {
          "output_type": "stream",
          "name": "stdout",
          "text": [
            "[2, 3, 4]\n"
          ]
        }
      ]
    },
    {
      "cell_type": "code",
      "source": [
        "list1 = [1,2,6,12]\n",
        "list2 = [12,6,2,1]\n",
        "\n",
        "print(list1 == list2)\n",
        "print (set(list1)==set(list2))"
      ],
      "metadata": {
        "colab": {
          "base_uri": "https://localhost:8080/"
        },
        "id": "F26qtaq33wXB",
        "outputId": "cfb50140-fe90-4066-bd47-5e184f573df6"
      },
      "execution_count": 22,
      "outputs": [
        {
          "output_type": "stream",
          "name": "stdout",
          "text": [
            "False\n",
            "True\n"
          ]
        }
      ]
    },
    {
      "cell_type": "code",
      "source": [
        "x= ['ab','cd']\n",
        "\n",
        "print(list(map(len,x))  )"
      ],
      "metadata": {
        "colab": {
          "base_uri": "https://localhost:8080/"
        },
        "id": "S8KlOuX038LT",
        "outputId": "f2009f1f-67ca-488b-9982-0f2e31a25cf3"
      },
      "execution_count": 23,
      "outputs": [
        {
          "output_type": "stream",
          "name": "stdout",
          "text": [
            "[2, 2]\n"
          ]
        }
      ]
    },
    {
      "cell_type": "code",
      "source": [
        "a1= [1,2,3,4,5]\n",
        "a2= a1\n",
        "a2[0] = 0 \n",
        "print(a1)"
      ],
      "metadata": {
        "colab": {
          "base_uri": "https://localhost:8080/"
        },
        "id": "k8AR7pTD4SXO",
        "outputId": "7c50612b-09d1-4436-bd4a-f0912f4e6517"
      },
      "execution_count": 24,
      "outputs": [
        {
          "output_type": "stream",
          "name": "stdout",
          "text": [
            "[0, 2, 3, 4, 5]\n"
          ]
        }
      ]
    },
    {
      "cell_type": "code",
      "source": [
        "import re\n",
        "result = re.findall('asdasd','asd' , 1 )\n",
        "print(result)"
      ],
      "metadata": {
        "colab": {
          "base_uri": "https://localhost:8080/"
        },
        "id": "8Pr3zgLF4bSn",
        "outputId": "07c81d55-2535-4fb3-cb95-cb1da98e8440"
      },
      "execution_count": 25,
      "outputs": [
        {
          "output_type": "stream",
          "name": "stdout",
          "text": [
            "[]\n"
          ]
        }
      ]
    },
    {
      "cell_type": "code",
      "source": [
        "class Welcome:\n",
        "  def __init__(self, name):\n",
        "    self.name = name\n",
        "  def say_hello(self):\n",
        "    print('Welcome to', self.name)\n",
        "cw = Welcome('turing')\n",
        "cw.say_hello()"
      ],
      "metadata": {
        "colab": {
          "base_uri": "https://localhost:8080/"
        },
        "id": "XpB1rAq04i97",
        "outputId": "f219ed5b-3ac5-4c32-89bf-233a9f7567ae"
      },
      "execution_count": 26,
      "outputs": [
        {
          "output_type": "stream",
          "name": "stdout",
          "text": [
            "Welcome to turing\n"
          ]
        }
      ]
    },
    {
      "cell_type": "code",
      "source": [
        "a = [1,2,3,4]\n",
        "b = [sum(a[0:x+1]) for x in range(0,len(a))]\n",
        "print(b)"
      ],
      "metadata": {
        "colab": {
          "base_uri": "https://localhost:8080/"
        },
        "id": "tsFIQlyn4xVX",
        "outputId": "b50843c9-1ad1-4c19-db97-a2b4a3a18fdd"
      },
      "execution_count": 27,
      "outputs": [
        {
          "output_type": "stream",
          "name": "stdout",
          "text": [
            "[1, 3, 6, 10]\n"
          ]
        }
      ]
    },
    {
      "cell_type": "code",
      "source": [
        "t = '%(a)s %(b)s %(c)s'\n",
        "print ( t % dict(a = 'Welcome', b = 'to' , c = ' turing'))"
      ],
      "metadata": {
        "colab": {
          "base_uri": "https://localhost:8080/"
        },
        "id": "dx7KlSur48SZ",
        "outputId": "7e4d2d32-5427-4b15-a1d0-e296d48bac16"
      },
      "execution_count": 28,
      "outputs": [
        {
          "output_type": "stream",
          "name": "stdout",
          "text": [
            "Welcome to  turing\n"
          ]
        }
      ]
    },
    {
      "cell_type": "code",
      "source": [
        "class hello:\n",
        "  def __init__(self, a = 'welcome to'):\n",
        "    self.a = a \n",
        "\n",
        "  def welcome(self,x):\n",
        "    print(self.a + x )\n",
        "h = hello()\n",
        "h.welcome('turing')"
      ],
      "metadata": {
        "colab": {
          "base_uri": "https://localhost:8080/"
        },
        "id": "tG2bh1wC5LEM",
        "outputId": "9c471477-14a4-420d-f53d-1913a5450830"
      },
      "execution_count": 29,
      "outputs": [
        {
          "output_type": "stream",
          "name": "stdout",
          "text": [
            "welcome toturing\n"
          ]
        }
      ]
    },
    {
      "cell_type": "code",
      "source": [
        "print(\"Welcome to TURING\".capitalize())"
      ],
      "metadata": {
        "colab": {
          "base_uri": "https://localhost:8080/"
        },
        "id": "p2oUAhUy5hIA",
        "outputId": "509b1d0f-faf6-4d7b-da02-a5e4493ba134"
      },
      "execution_count": 31,
      "outputs": [
        {
          "output_type": "stream",
          "name": "stdout",
          "text": [
            "Welcome to turing\n"
          ]
        }
      ]
    },
    {
      "cell_type": "code",
      "source": [
        "print([i.lower() for i in \"TURING\"])"
      ],
      "metadata": {
        "colab": {
          "base_uri": "https://localhost:8080/"
        },
        "id": "ISfgaDjL5o9O",
        "outputId": "ec4a8c16-8b46-43ee-8981-c9a757ae6d8a"
      },
      "execution_count": 32,
      "outputs": [
        {
          "output_type": "stream",
          "name": "stdout",
          "text": [
            "['t', 'u', 'r', 'i', 'n', 'g']\n"
          ]
        }
      ]
    },
    {
      "cell_type": "code",
      "source": [
        "data = [10,20,30,40,50]\n",
        "data.pop()\n",
        "print(data)\n",
        "data.pop(2)\n",
        "print(data)"
      ],
      "metadata": {
        "colab": {
          "base_uri": "https://localhost:8080/"
        },
        "id": "i5-xYr9S5t6G",
        "outputId": "089ce358-8e38-4469-a89e-2ed698a57313"
      },
      "execution_count": 33,
      "outputs": [
        {
          "output_type": "stream",
          "name": "stdout",
          "text": [
            "[10, 20, 30, 40]\n",
            "[10, 20, 40]\n"
          ]
        }
      ]
    },
    {
      "cell_type": "code",
      "source": [
        "class Developer:\n",
        "  def __init_(self):\n",
        "    self.__seniority = 'Junior'\n",
        "    self.skills = ''\n",
        "  def display(self):\n",
        "    print ('Welcome to Turing with {seniority} developer with skill {skills}'.format(seniority=self.__seniority, skills = self.skills))\n",
        "\n",
        "class NODEJS(Developer):\n",
        "  def __init(self):\n",
        "    super().__init__()\n",
        "    self.__seniority = ' Senior'\n",
        "    self.skills = 'NodeJS'\n",
        "\n",
        "c= NODEJS()\n",
        "c.display()"
      ],
      "metadata": {
        "colab": {
          "base_uri": "https://localhost:8080/",
          "height": 340
        },
        "id": "aM0rUCFk53Te",
        "outputId": "13d016e1-de85-4e13-f769-cdfca2379d9f"
      },
      "execution_count": 35,
      "outputs": [
        {
          "output_type": "error",
          "ename": "AttributeError",
          "evalue": "ignored",
          "traceback": [
            "\u001b[0;31m---------------------------------------------------------------------------\u001b[0m",
            "\u001b[0;31mAttributeError\u001b[0m                            Traceback (most recent call last)",
            "\u001b[0;32m<ipython-input-35-031fb5b2432f>\u001b[0m in \u001b[0;36m<module>\u001b[0;34m()\u001b[0m\n\u001b[1;32m     13\u001b[0m \u001b[0;34m\u001b[0m\u001b[0m\n\u001b[1;32m     14\u001b[0m \u001b[0mc\u001b[0m\u001b[0;34m=\u001b[0m \u001b[0mNODEJS\u001b[0m\u001b[0;34m(\u001b[0m\u001b[0;34m)\u001b[0m\u001b[0;34m\u001b[0m\u001b[0;34m\u001b[0m\u001b[0m\n\u001b[0;32m---> 15\u001b[0;31m \u001b[0mc\u001b[0m\u001b[0;34m.\u001b[0m\u001b[0mdisplay\u001b[0m\u001b[0;34m(\u001b[0m\u001b[0;34m)\u001b[0m\u001b[0;34m\u001b[0m\u001b[0;34m\u001b[0m\u001b[0m\n\u001b[0m",
            "\u001b[0;32m<ipython-input-35-031fb5b2432f>\u001b[0m in \u001b[0;36mdisplay\u001b[0;34m(self)\u001b[0m\n\u001b[1;32m      4\u001b[0m     \u001b[0mself\u001b[0m\u001b[0;34m.\u001b[0m\u001b[0mskills\u001b[0m \u001b[0;34m=\u001b[0m \u001b[0;34m''\u001b[0m\u001b[0;34m\u001b[0m\u001b[0;34m\u001b[0m\u001b[0m\n\u001b[1;32m      5\u001b[0m   \u001b[0;32mdef\u001b[0m \u001b[0mdisplay\u001b[0m\u001b[0;34m(\u001b[0m\u001b[0mself\u001b[0m\u001b[0;34m)\u001b[0m\u001b[0;34m:\u001b[0m\u001b[0;34m\u001b[0m\u001b[0;34m\u001b[0m\u001b[0m\n\u001b[0;32m----> 6\u001b[0;31m     \u001b[0mprint\u001b[0m \u001b[0;34m(\u001b[0m\u001b[0;34m'Welcome to Turing with {seniority} developer with skill {skills}'\u001b[0m\u001b[0;34m.\u001b[0m\u001b[0mformat\u001b[0m\u001b[0;34m(\u001b[0m\u001b[0mseniority\u001b[0m\u001b[0;34m=\u001b[0m\u001b[0mself\u001b[0m\u001b[0;34m.\u001b[0m\u001b[0m__seniority\u001b[0m\u001b[0;34m,\u001b[0m \u001b[0mskills\u001b[0m \u001b[0;34m=\u001b[0m \u001b[0mself\u001b[0m\u001b[0;34m.\u001b[0m\u001b[0mskills\u001b[0m\u001b[0;34m)\u001b[0m\u001b[0;34m)\u001b[0m\u001b[0;34m\u001b[0m\u001b[0;34m\u001b[0m\u001b[0m\n\u001b[0m\u001b[1;32m      7\u001b[0m \u001b[0;34m\u001b[0m\u001b[0m\n\u001b[1;32m      8\u001b[0m \u001b[0;32mclass\u001b[0m \u001b[0mNODEJS\u001b[0m\u001b[0;34m(\u001b[0m\u001b[0mDeveloper\u001b[0m\u001b[0;34m)\u001b[0m\u001b[0;34m:\u001b[0m\u001b[0;34m\u001b[0m\u001b[0;34m\u001b[0m\u001b[0m\n",
            "\u001b[0;31mAttributeError\u001b[0m: 'NODEJS' object has no attribute '_Developer__seniority'"
          ]
        }
      ]
    },
    {
      "cell_type": "code",
      "source": [
        "file.size"
      ],
      "metadata": {
        "colab": {
          "base_uri": "https://localhost:8080/",
          "height": 166
        },
        "id": "GAirkDhz6umb",
        "outputId": "811b97a5-3f94-4214-af70-5da114718172"
      },
      "execution_count": 36,
      "outputs": [
        {
          "output_type": "error",
          "ename": "NameError",
          "evalue": "ignored",
          "traceback": [
            "\u001b[0;31m---------------------------------------------------------------------------\u001b[0m",
            "\u001b[0;31mNameError\u001b[0m                                 Traceback (most recent call last)",
            "\u001b[0;32m<ipython-input-36-cb2575410caa>\u001b[0m in \u001b[0;36m<module>\u001b[0;34m()\u001b[0m\n\u001b[0;32m----> 1\u001b[0;31m \u001b[0mfile\u001b[0m\u001b[0;34m.\u001b[0m\u001b[0msize\u001b[0m\u001b[0;34m\u001b[0m\u001b[0;34m\u001b[0m\u001b[0m\n\u001b[0m",
            "\u001b[0;31mNameError\u001b[0m: name 'file' is not defined"
          ]
        }
      ]
    },
    {
      "cell_type": "code",
      "source": [
        "z = set('abc')\n",
        "z.add('san')\n",
        "z.update(set(['p','q']))\n",
        "\n",
        "print(z)"
      ],
      "metadata": {
        "colab": {
          "base_uri": "https://localhost:8080/"
        },
        "id": "3f30n-eJ61YS",
        "outputId": "cf3017b5-7588-4d85-e7af-3cf105869742"
      },
      "execution_count": 37,
      "outputs": [
        {
          "output_type": "stream",
          "name": "stdout",
          "text": [
            "{'a', 'san', 'b', 'c', 'p', 'q'}\n"
          ]
        }
      ]
    },
    {
      "cell_type": "code",
      "source": [
        "l1 = [1,2]\n",
        "l2 = [3,4]\n",
        "\n",
        "result = l1+l2\n",
        "\n",
        "print(result)"
      ],
      "metadata": {
        "colab": {
          "base_uri": "https://localhost:8080/"
        },
        "id": "CgVm31Yd7OTW",
        "outputId": "397faaaa-c221-435e-d5f2-14c6464a3742"
      },
      "execution_count": 39,
      "outputs": [
        {
          "output_type": "stream",
          "name": "stdout",
          "text": [
            "[1, 2, 3, 4]\n"
          ]
        }
      ]
    },
    {
      "cell_type": "code",
      "source": [
        "def listskills(val, list=[]):\n",
        "  list.append(val)\n",
        "  return list\n",
        "\n",
        "list1 = listskills('NodeJS')\n",
        "\n",
        "list2 = listskills('Java', [])\n",
        "\n",
        "list3 = listskills('react')\n",
        "print(\"%s\" % list1)\n",
        "print(\"%s\" % list2)\n",
        "print(\"%s\" % list3)"
      ],
      "metadata": {
        "colab": {
          "base_uri": "https://localhost:8080/"
        },
        "id": "XY2lzQGp7cZN",
        "outputId": "475bd3d1-cf26-4ef2-cec4-bd658d6deaa7"
      },
      "execution_count": 40,
      "outputs": [
        {
          "output_type": "stream",
          "name": "stdout",
          "text": [
            "['NodeJS', 'react']\n",
            "['Java']\n",
            "['NodeJS', 'react']\n"
          ]
        }
      ]
    },
    {
      "cell_type": "code",
      "source": [
        "print (2**(3**2),(2**3)**2 , (2**3)**3)"
      ],
      "metadata": {
        "colab": {
          "base_uri": "https://localhost:8080/"
        },
        "id": "r8xRM_Uk7wqB",
        "outputId": "517ef27f-657c-49d6-eb9f-5fca2aac7864"
      },
      "execution_count": 41,
      "outputs": [
        {
          "output_type": "stream",
          "name": "stdout",
          "text": [
            "512 64 512\n"
          ]
        }
      ]
    },
    {
      "cell_type": "code",
      "source": [
        "array = ['Welcome', 'To', 'Turing']\n",
        "print(\"-\".join(array))"
      ],
      "metadata": {
        "colab": {
          "base_uri": "https://localhost:8080/"
        },
        "id": "Ftaw_w9u73g1",
        "outputId": "2680a434-006a-463a-9a5f-a5443853e34c"
      },
      "execution_count": 42,
      "outputs": [
        {
          "output_type": "stream",
          "name": "stdout",
          "text": [
            "Welcome-To-Turing\n"
          ]
        }
      ]
    },
    {
      "cell_type": "code",
      "source": [
        "def add(c,k):\n",
        "  c.test = c.test +1 \n",
        "  k = k+1\n",
        "\n",
        "class plus: \n",
        "  def __init__(self):\n",
        "    self.test = 0 \n",
        "  def main():\n",
        "    p = plus()\n",
        "    index = 0\n",
        "    for i in range(0,25):\n",
        "    \n",
        "    add(p,index)\n",
        "\n",
        "    \n",
        "print(\"p.test=\", p.test)\n",
        "print(\"index=\", index)"
      ],
      "metadata": {
        "colab": {
          "base_uri": "https://localhost:8080/",
          "height": 132
        },
        "id": "iFqaMhlG8H26",
        "outputId": "cc881d6c-5a6d-423d-f410-757497242208"
      },
      "execution_count": 47,
      "outputs": [
        {
          "output_type": "error",
          "ename": "IndentationError",
          "evalue": "ignored",
          "traceback": [
            "\u001b[0;36m  File \u001b[0;32m\"<ipython-input-47-2b60617e4219>\"\u001b[0;36m, line \u001b[0;32m13\u001b[0m\n\u001b[0;31m    add(p,index)\u001b[0m\n\u001b[0m      ^\u001b[0m\n\u001b[0;31mIndentationError\u001b[0m\u001b[0;31m:\u001b[0m expected an indented block\n"
          ]
        }
      ]
    },
    {
      "cell_type": "code",
      "source": [
        "i = 'Welcome'\n",
        "def welcome(i):\n",
        "   i = i+ ', Welcome to Turing'\n",
        "   return i\n",
        "\n",
        "welcome('Developer')\n",
        "print(i)"
      ],
      "metadata": {
        "colab": {
          "base_uri": "https://localhost:8080/"
        },
        "id": "o-rIvLTb8oNs",
        "outputId": "e5544b44-b557-45b5-ddae-323031895ef7"
      },
      "execution_count": 50,
      "outputs": [
        {
          "output_type": "stream",
          "name": "stdout",
          "text": [
            "Welcome\n"
          ]
        }
      ]
    },
    {
      "cell_type": "code",
      "source": [
        ""
      ],
      "metadata": {
        "id": "glhbphwr80Mi"
      },
      "execution_count": null,
      "outputs": []
    }
  ]
}